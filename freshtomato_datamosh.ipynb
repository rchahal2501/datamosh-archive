{
  "nbformat": 4,
  "nbformat_minor": 0,
  "metadata": {
    "colab": {
      "provenance": [],
      "authorship_tag": "ABX9TyOeZSZzFfbjMaFKwVOJfYcP",
      "include_colab_link": true
    },
    "kernelspec": {
      "name": "python3",
      "display_name": "Python 3"
    },
    "language_info": {
      "name": "python"
    }
  },
  "cells": [
    {
      "cell_type": "markdown",
      "metadata": {
        "id": "view-in-github",
        "colab_type": "text"
      },
      "source": [
        "<a href=\"https://colab.research.google.com/github/rchahal2501/datamosh-archive/blob/main/freshtomato_datamosh.ipynb\" target=\"_parent\"><img src=\"https://colab.research.google.com/assets/colab-badge.svg\" alt=\"Open In Colab\"/></a>"
      ]
    },
    {
      "cell_type": "markdown",
      "source": [],
      "metadata": {
        "id": "xeq_fJs76Ku-"
      }
    },
    {
      "cell_type": "code",
      "source": [
        "#Repo clone: itsKasper tomato.py\n"
      ],
      "metadata": {
        "id": "lYdphN2z6Iu3"
      },
      "execution_count": null,
      "outputs": []
    },
    {
      "cell_type": "code",
      "execution_count": null,
      "metadata": {
        "colab": {
          "base_uri": "https://localhost:8080/"
        },
        "id": "KlnueoYDp8rj",
        "outputId": "e042e26d-daaa-465e-993a-221675927637"
      },
      "outputs": [
        {
          "output_type": "stream",
          "name": "stdout",
          "text": [
            "usage: tomato.py\n",
            "       [-h]\n",
            "       [-i INPUT]\n",
            "       [-m MODEVALUE]\n",
            "       [-c COUNTFRAMES]\n",
            "       [-n POSITFRAMES]\n",
            "       [-a AUDIO]\n",
            "       [-ff FIRSTFRAME]\n",
            "       [-k KILL]\n",
            "\n",
            "options:\n",
            "  -h, --help\n",
            "    show this\n",
            "    help\n",
            "    message and\n",
            "    exit\n",
            "  -i INPUT, --input INPUT\n",
            "    input file\n",
            "  -m MODEVALUE, --mode MODEVALUE\n",
            "    choose mode\n",
            "    - void,\n",
            "    random,\n",
            "    reverse,\n",
            "    invert,\n",
            "    bloom,\n",
            "    pulse,\n",
            "    jiggle,\n",
            "    overlap\n",
            "  -c COUNTFRAMES\n",
            "    how often\n",
            "    to glitch\n",
            "    (for modes\n",
            "    that\n",
            "    support it)\n",
            "  -n POSITFRAMES\n",
            "    how many\n",
            "    frames in\n",
            "    the glitch\n",
            "    (for modes\n",
            "    that\n",
            "    support it)\n",
            "  -a AUDIO\n",
            "    attempt to\n",
            "    preserve\n",
            "    audio\n",
            "  -ff FIRSTFRAME\n",
            "    whether to\n",
            "    keep first\n",
            "    video frame\n",
            "  -k KILL\n",
            "    max\n",
            "    framesize\n",
            "    to kill\n",
            "    while\n",
            "    cleaning\n"
          ]
        }
      ],
      "source": [
        "!python3 tomato.py -h"
      ]
    },
    {
      "cell_type": "code",
      "source": [
        "!python3 tomato.py -i daddu.avi"
      ],
      "metadata": {
        "colab": {
          "base_uri": "https://localhost:8080/"
        },
        "id": "I9Wb7YHHqUPV",
        "outputId": "0d9d5835-3a29-4e8c-9223-953c1a4e9825"
      },
      "execution_count": null,
      "outputs": [
        {
          "output_type": "stream",
          "name": "stdout",
          "text": [
            "> step 1/5 : streaming into binary files\n",
            "> step 2/5 : constructing frame index\n",
            "> step 3/5 : mode void\n",
            "> step 4/5 : putting things back together\n",
            "> step 5/5 : done - final idx size : 634\n"
          ]
        }
      ]
    },
    {
      "cell_type": "code",
      "source": [
        "!python3 tomato.py -i wimbledon.avi -k 0.01 -m pulse -c 3 -n 48"
      ],
      "metadata": {
        "colab": {
          "base_uri": "https://localhost:8080/"
        },
        "id": "e6aH62XKF0JZ",
        "outputId": "12279ed0-4ae9-4a53-d6c9-e82b9faf5980"
      },
      "execution_count": null,
      "outputs": [
        {
          "output_type": "stream",
          "name": "stdout",
          "text": [
            "> step 1/5 : streaming into binary files\n",
            "> step 2/5 : constructing frame index\n",
            "> step 3/5 : mode pulse\n",
            "> step 4/5 : putting things back together\n",
            "> step 5/5 : done - final idx size : 1077\n"
          ]
        }
      ]
    },
    {
      "cell_type": "code",
      "source": [
        "!python3 tomato.py -i wimbledon.avi -k 0.8 -m pulse -c 4 -n 48"
      ],
      "metadata": {
        "colab": {
          "base_uri": "https://localhost:8080/"
        },
        "id": "oN-nsp1CKCd-",
        "outputId": "1574c78e-ae53-4b2e-e9a6-ac1850778f5f"
      },
      "execution_count": null,
      "outputs": [
        {
          "output_type": "stream",
          "name": "stdout",
          "text": [
            "> step 1/5 : streaming into binary files\n",
            "> step 2/5 : constructing frame index\n",
            "> step 3/5 : mode pulse\n",
            "> step 4/5 : putting things back together\n",
            "> step 5/5 : done - final idx size : 2952\n"
          ]
        }
      ]
    },
    {
      "cell_type": "code",
      "source": [
        "!python3 tomato.py -i wimbledon.avi"
      ],
      "metadata": {
        "colab": {
          "base_uri": "https://localhost:8080/"
        },
        "id": "8XNKvCuiKZuq",
        "outputId": "c5a39e90-fdb5-4104-ef14-9294096fa69b"
      },
      "execution_count": null,
      "outputs": [
        {
          "output_type": "stream",
          "name": "stdout",
          "text": [
            "> step 1/5 : streaming into binary files\n",
            "> step 2/5 : constructing frame index\n",
            "> step 3/5 : mode void\n",
            "> step 4/5 : putting things back together\n",
            "> step 5/5 : done - final idx size : 737\n"
          ]
        }
      ]
    }
  ]
}